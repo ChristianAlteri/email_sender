{
 "cells": [
  {
   "cell_type": "code",
   "execution_count": 6,
   "id": "11d1173a",
   "metadata": {},
   "outputs": [
    {
     "name": "stdout",
     "output_type": "stream",
     "text": [
      "Email sent successfully!\n",
      "Email sent successfully!\n",
      "Email sent successfully!\n",
      "Email sent successfully!\n",
      "Email sent successfully!\n"
     ]
    }
   ],
   "source": [
    "import smtplib\n",
    "from email.mime.text import MIMEText\n",
    "from email.mime.multipart import MIMEMultipart\n",
    "\n",
    "# Email configuration\n",
    "sender_email = \"@gmail.com\"\n",
    "receiver_email = \"@gmail.com \"\n",
    "# If using gmail you need to go to Security > Two factor auth (scroll to bottom) > App passwords to find the password\n",
    "password = \"\" \n",
    "subject = \"Hello from Python Script\"\n",
    "message = \"This is a test email sent from a Python script.\"\n",
    "\n",
    "# Create a function to send an email\n",
    "def send_email():\n",
    "    try:\n",
    "        # Set up the email server\n",
    "        server = smtplib.SMTP(\"smtp.gmail.com\", 587)\n",
    "        server.starttls()\n",
    "        server.login(sender_email, password)\n",
    "\n",
    "        # Create the email message\n",
    "        msg = MIMEMultipart()\n",
    "        msg['From'] = sender_email\n",
    "        msg['To'] = receiver_email\n",
    "        msg['Subject'] = subject\n",
    "        msg.attach(MIMEText(message, 'plain'))\n",
    "\n",
    "        # Send the email\n",
    "        server.sendmail(sender_email, receiver_email, msg.as_string())\n",
    "        server.quit()\n",
    "\n",
    "        print(\"Email sent successfully!\")\n",
    "    except Exception as e:\n",
    "        print(\"An error occurred: \", str(e))\n",
    "\n",
    "# Send the email 5 times\n",
    "for _ in range(5):\n",
    "    send_email()\n"
   ]
  },
  {
   "cell_type": "code",
   "execution_count": null,
   "id": "d8cff56b",
   "metadata": {},
   "outputs": [],
   "source": []
  }
 ],
 "metadata": {
  "kernelspec": {
   "display_name": "Python 3 (ipykernel)",
   "language": "python",
   "name": "python3"
  },
  "language_info": {
   "codemirror_mode": {
    "name": "ipython",
    "version": 3
   },
   "file_extension": ".py",
   "mimetype": "text/x-python",
   "name": "python",
   "nbconvert_exporter": "python",
   "pygments_lexer": "ipython3",
   "version": "3.11.4"
  }
 },
 "nbformat": 4,
 "nbformat_minor": 5
}
